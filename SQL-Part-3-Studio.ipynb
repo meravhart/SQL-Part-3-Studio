{
    "metadata": {
        "kernelspec": {
            "name": "SQL",
            "display_name": "SQL",
            "language": "sql"
        },
        "language_info": {
            "name": "sql",
            "version": ""
        },
        "extensions": {
            "azuredatastudio": {
                "version": 1,
                "views": []
            }
        }
    },
    "nbformat_minor": 2,
    "nbformat": 4,
    "cells": [
        {
            "cell_type": "markdown",
            "source": [
                "# SQL Part 3 Studio\n",
                "\n",
                "### Let's practice your SQL quering skills!  For each question, work along in the notebook adding your query and answering the questions. \n",
                "\n",
                "### **DataSet**\n",
                "\n",
                "### <span style=\"font-size: 14px; font-family: -apple-system, BlinkMacSystemFont, sans-serif;\">We will be using the Goodbooks-10k dataset from the exercises in the prep work.&nbsp; Feel free reference your previous notebooks.</span>\n",
                "\n",
                "- The dataset can be found here: [goodbooks-10k](https://www.kaggle.com/zygmunt/goodbooks-10k)\n",
                "- You can access the **BooksDB** in the Launchcode server.\n",
                "\n",
                "### **Business Issue**\n",
                "\n",
                "You are an employee at a small independet bookstore and you have been tasked to increase sales.  You decide to use the BooksDB to find books and themes to highlight in fun promotions throughout each month / season.  We will be starting with March and then you will have a chance to explore another month of your choosing.  We want to come up with a list of events/ promotions to run each month.  If you are looking for ideas to include in your promotions:\n",
                "\n",
                "- [https://www.calendarr.com/united-states/calendar-2022/](https://www.calendarr.com/united-states/calendar-2022/)\n",
                "- [https://www.holidayinsights.com/moreholidays/](https://www.holidayinsights.com/moreholidays/)\n",
                "    - Click on a month and it will take you to a more detailed page"
            ],
            "metadata": {
                "azdata_cell_guid": "b9034d8a-b631-48bf-a895-1012a6ffa784"
            },
            "attachments": {}
        },
        {
            "cell_type": "markdown",
            "source": [
                "## Part 1:  March - Women's History Month, Dr Seuss Day(3/2), National Pie Day3/14, St Patrick's Day (3/17), Season - Spring"
            ],
            "metadata": {
                "azdata_cell_guid": "6e55eb1c-4a14-4076-90d2-95ed17a6309f"
            },
            "attachments": {}
        },
        {
            "cell_type": "markdown",
            "source": [
                "### **Event 1:** Women's History Month\n",
                "\n",
                "Goal: Highlight Popular Womans Authors based on ratings from the Good Reads DB.\n",
                "\n",
                "### **Write a query that returns tag\\_id, the number of times each tag\\_id is used and the tag\\_name.**  \n",
                "\n",
                "### Use the GROUP BY and HAVING clause to narrow your focus.\n",
                "\n",
                "Try multiple keywords, ie woman vs female (female ended up giving better results)"
            ],
            "metadata": {
                "azdata_cell_guid": "d220c097-e9cf-4edd-9abe-312d071217b7"
            },
            "attachments": {}
        },
        {
            "cell_type": "code",
            "source": [
                "-- Solution\n",
                "Select tag_id, tag_name\n",
                "From booksdb.dbo.tags\n",
                "where tag_name Like '%female%'\n",
                "\n",
                "-- a\n",
                "select top 5 b.title, bt.count, bt.tag_id\n",
                "from booksDB.dbo.books as b\n",
                "inner join booksDB.dbo.book_tags as bt\n",
                "on bt.goodreads_book_id = b.best_book_id\n",
                "where bt.tag_id = 11652\n",
                "order by bt.count desc;"
            ],
            "metadata": {
                "azdata_cell_guid": "e31b9d26-0386-44c7-828e-85f4f06f3ee6",
                "language": "sql"
            },
            "outputs": [
                {
                    "output_type": "display_data",
                    "data": {
                        "text/html": "(35 rows affected)"
                    },
                    "metadata": {}
                },
                {
                    "output_type": "display_data",
                    "data": {
                        "text/html": "(5 rows affected)"
                    },
                    "metadata": {}
                },
                {
                    "output_type": "display_data",
                    "data": {
                        "text/html": "Total execution time: 00:00:00.197"
                    },
                    "metadata": {}
                },
                {
                    "output_type": "execute_result",
                    "metadata": {},
                    "execution_count": 11,
                    "data": {
                        "application/vnd.dataresource+json": {
                            "schema": {
                                "fields": [
                                    {
                                        "name": "tag_id"
                                    },
                                    {
                                        "name": "tag_name"
                                    }
                                ]
                            },
                            "data": [
                                {
                                    "0": "1741",
                                    "1": "afghan-female-entrepreneur-under-ta"
                                },
                                {
                                    "0": "3514",
                                    "1": "author-female"
                                },
                                {
                                    "0": "4309",
                                    "1": "best-adult-female-friendship-books"
                                },
                                {
                                    "0": "11642",
                                    "1": "female"
                                },
                                {
                                    "0": "11643",
                                    "1": "female-author"
                                },
                                {
                                    "0": "11644",
                                    "1": "female-authors"
                                },
                                {
                                    "0": "11645",
                                    "1": "female-biographies"
                                },
                                {
                                    "0": "11646",
                                    "1": "female-detective"
                                },
                                {
                                    "0": "11647",
                                    "1": "female-detectives"
                                },
                                {
                                    "0": "11648",
                                    "1": "female-doctor"
                                },
                                {
                                    "0": "11649",
                                    "1": "female-fiction"
                                },
                                {
                                    "0": "11650",
                                    "1": "female-friendship"
                                },
                                {
                                    "0": "11651",
                                    "1": "female-genre-authors"
                                },
                                {
                                    "0": "11652",
                                    "1": "female-lead"
                                },
                                {
                                    "0": "11653",
                                    "1": "female-main-character"
                                },
                                {
                                    "0": "11654",
                                    "1": "female-persuasion"
                                },
                                {
                                    "0": "11655",
                                    "1": "female-pi"
                                },
                                {
                                    "0": "11656",
                                    "1": "female-pov"
                                },
                                {
                                    "0": "11657",
                                    "1": "female-povs"
                                },
                                {
                                    "0": "11658",
                                    "1": "female-protagonist"
                                },
                                {
                                    "0": "11659",
                                    "1": "female-serial-killer"
                                },
                                {
                                    "0": "11660",
                                    "1": "female-spy"
                                },
                                {
                                    "0": "11661",
                                    "1": "female-writer"
                                },
                                {
                                    "0": "11662",
                                    "1": "female-writers"
                                },
                                {
                                    "0": "15331",
                                    "1": "important-female-authors"
                                },
                                {
                                    "0": "17079",
                                    "1": "kick-ass-female"
                                },
                                {
                                    "0": "24455",
                                    "1": "protagonist-female"
                                },
                                {
                                    "0": "28830",
                                    "1": "strong-female"
                                },
                                {
                                    "0": "28831",
                                    "1": "strong-female-character"
                                },
                                {
                                    "0": "28832",
                                    "1": "strong-female-character-s"
                                },
                                {
                                    "0": "28833",
                                    "1": "strong-female-characters"
                                },
                                {
                                    "0": "28834",
                                    "1": "strong-female-lead"
                                },
                                {
                                    "0": "28835",
                                    "1": "strong-female-protagonist"
                                },
                                {
                                    "0": "28836",
                                    "1": "strong-female-supporting-characters"
                                },
                                {
                                    "0": "29324",
                                    "1": "tbr-ax-female"
                                }
                            ]
                        },
                        "text/html": [
                            "<table>",
                            "<tr><th>tag_id</th><th>tag_name</th></tr>",
                            "<tr><td>1741</td><td>afghan-female-entrepreneur-under-ta</td></tr>",
                            "<tr><td>3514</td><td>author-female</td></tr>",
                            "<tr><td>4309</td><td>best-adult-female-friendship-books</td></tr>",
                            "<tr><td>11642</td><td>female</td></tr>",
                            "<tr><td>11643</td><td>female-author</td></tr>",
                            "<tr><td>11644</td><td>female-authors</td></tr>",
                            "<tr><td>11645</td><td>female-biographies</td></tr>",
                            "<tr><td>11646</td><td>female-detective</td></tr>",
                            "<tr><td>11647</td><td>female-detectives</td></tr>",
                            "<tr><td>11648</td><td>female-doctor</td></tr>",
                            "<tr><td>11649</td><td>female-fiction</td></tr>",
                            "<tr><td>11650</td><td>female-friendship</td></tr>",
                            "<tr><td>11651</td><td>female-genre-authors</td></tr>",
                            "<tr><td>11652</td><td>female-lead</td></tr>",
                            "<tr><td>11653</td><td>female-main-character</td></tr>",
                            "<tr><td>11654</td><td>female-persuasion</td></tr>",
                            "<tr><td>11655</td><td>female-pi</td></tr>",
                            "<tr><td>11656</td><td>female-pov</td></tr>",
                            "<tr><td>11657</td><td>female-povs</td></tr>",
                            "<tr><td>11658</td><td>female-protagonist</td></tr>",
                            "<tr><td>11659</td><td>female-serial-killer</td></tr>",
                            "<tr><td>11660</td><td>female-spy</td></tr>",
                            "<tr><td>11661</td><td>female-writer</td></tr>",
                            "<tr><td>11662</td><td>female-writers</td></tr>",
                            "<tr><td>15331</td><td>important-female-authors</td></tr>",
                            "<tr><td>17079</td><td>kick-ass-female</td></tr>",
                            "<tr><td>24455</td><td>protagonist-female</td></tr>",
                            "<tr><td>28830</td><td>strong-female</td></tr>",
                            "<tr><td>28831</td><td>strong-female-character</td></tr>",
                            "<tr><td>28832</td><td>strong-female-character-s</td></tr>",
                            "<tr><td>28833</td><td>strong-female-characters</td></tr>",
                            "<tr><td>28834</td><td>strong-female-lead</td></tr>",
                            "<tr><td>28835</td><td>strong-female-protagonist</td></tr>",
                            "<tr><td>28836</td><td>strong-female-supporting-characters</td></tr>",
                            "<tr><td>29324</td><td>tbr-ax-female</td></tr>",
                            "</table>"
                        ]
                    }
                },
                {
                    "output_type": "execute_result",
                    "metadata": {},
                    "execution_count": 11,
                    "data": {
                        "application/vnd.dataresource+json": {
                            "schema": {
                                "fields": [
                                    {
                                        "name": "title"
                                    },
                                    {
                                        "name": "count"
                                    },
                                    {
                                        "name": "tag_id"
                                    }
                                ]
                            },
                            "data": [
                                {
                                    "0": "The Naming (The Books of Pellinor, #1)",
                                    "1": "8",
                                    "2": "11652"
                                },
                                {
                                    "0": "The Assassin and the Empire (Throne of Glass, #0.5)",
                                    "1": "7",
                                    "2": "11652"
                                },
                                {
                                    "0": "The Assassin and the Underworld (Throne of Glass, #0.4)",
                                    "1": "7",
                                    "2": "11652"
                                },
                                {
                                    "0": "Crown Duel (Crown & Court #1-2)",
                                    "1": "6",
                                    "2": "11652"
                                },
                                {
                                    "0": "The Riddle (The Books of Pellinor, #2)",
                                    "1": "4",
                                    "2": "11652"
                                }
                            ]
                        },
                        "text/html": [
                            "<table>",
                            "<tr><th>title</th><th>count</th><th>tag_id</th></tr>",
                            "<tr><td>The Naming (The Books of Pellinor, #1)</td><td>8</td><td>11652</td></tr>",
                            "<tr><td>The Assassin and the Empire (Throne of Glass, #0.5)</td><td>7</td><td>11652</td></tr>",
                            "<tr><td>The Assassin and the Underworld (Throne of Glass, #0.4)</td><td>7</td><td>11652</td></tr>",
                            "<tr><td>Crown Duel (Crown &amp; Court #1-2)</td><td>6</td><td>11652</td></tr>",
                            "<tr><td>The Riddle (The Books of Pellinor, #2)</td><td>4</td><td>11652</td></tr>",
                            "</table>"
                        ]
                    }
                }
            ],
            "execution_count": 11
        },
        {
            "cell_type": "markdown",
            "source": [
                "### **Which keyword(s) and tag(s) would you like to explore more?**\n",
                "\n",
                "female-lead"
            ],
            "metadata": {
                "azdata_cell_guid": "e9acd8b5-a62b-4ac0-bd07-19915b379ba6"
            },
            "attachments": {}
        },
        {
            "cell_type": "markdown",
            "source": [
                "### **Write a query to return authors, titles, ratings and** **selected tag(s)\\_id.**"
            ],
            "metadata": {
                "azdata_cell_guid": "59b84464-c0bc-4dac-9e02-0c803765b063"
            },
            "attachments": {}
        },
        {
            "cell_type": "code",
            "source": [
                "-- Solution\n",
                "select top 10 b.title, b.authors, b.average_rating, bt.count, bt.tag_id\n",
                "from booksDB.dbo.books as b\n",
                "inner join booksDB.dbo.book_tags as bt\n",
                "on bt.goodreads_book_id = b.best_book_id\n",
                "where bt.tag_id = 11652\n",
                "order by b.average_rating desc;"
            ],
            "metadata": {
                "azdata_cell_guid": "51ffeaaf-6dde-4906-95f3-eb8757babf27",
                "tags": [],
                "language": "sql"
            },
            "outputs": [
                {
                    "output_type": "display_data",
                    "data": {
                        "text/html": "(10 rows affected)"
                    },
                    "metadata": {}
                },
                {
                    "output_type": "display_data",
                    "data": {
                        "text/html": "Total execution time: 00:00:00.128"
                    },
                    "metadata": {}
                },
                {
                    "output_type": "execute_result",
                    "metadata": {},
                    "execution_count": 24,
                    "data": {
                        "application/vnd.dataresource+json": {
                            "schema": {
                                "fields": [
                                    {
                                        "name": "title"
                                    },
                                    {
                                        "name": "authors"
                                    },
                                    {
                                        "name": "average_rating"
                                    },
                                    {
                                        "name": "count"
                                    },
                                    {
                                        "name": "tag_id"
                                    }
                                ]
                            },
                            "data": [
                                {
                                    "0": "The Assassin and the Empire (Throne of Glass, #0.5)",
                                    "1": "Sarah J. Maas",
                                    "2": "4.42",
                                    "3": "7",
                                    "4": "11652"
                                },
                                {
                                    "0": "The Assassin and the Underworld (Throne of Glass, #0.4)",
                                    "1": "Sarah J. Maas",
                                    "2": "4.37",
                                    "3": "7",
                                    "4": "11652"
                                },
                                {
                                    "0": "Cardcaptor Sakura: Master of the Clow, Vol. 1 (Cardcaptor Sakura, #7)",
                                    "1": "CLAMP, Anita Sengupta",
                                    "2": "4.34",
                                    "3": "3",
                                    "4": "11652"
                                },
                                {
                                    "0": "Flag in Exile (Honor Harrington, #5)",
                                    "1": "David Weber",
                                    "2": "4.22",
                                    "3": "3",
                                    "4": "11652"
                                },
                                {
                                    "0": "The Honor of the Queen (Honor Harrington, #2)",
                                    "1": "David Weber",
                                    "2": "4.21",
                                    "3": "4",
                                    "4": "11652"
                                },
                                {
                                    "0": "Crown Duel (Crown & Court #1-2)",
                                    "1": "Sherwood Smith",
                                    "2": "4.19",
                                    "3": "6",
                                    "4": "11652"
                                },
                                {
                                    "0": "Field of Dishonor (Honor Harrington, #4)",
                                    "1": "David Weber",
                                    "2": "4.19",
                                    "3": "3",
                                    "4": "11652"
                                },
                                {
                                    "0": "The Short Victorious War (Honor Harrington, #3)",
                                    "1": "David Weber",
                                    "2": "4.16",
                                    "3": "4",
                                    "4": "11652"
                                },
                                {
                                    "0": "The Riddle (The Books of Pellinor, #2)",
                                    "1": "Alison Croggon",
                                    "2": "4.1",
                                    "3": "4",
                                    "4": "11652"
                                },
                                {
                                    "0": "Blood Memory",
                                    "1": "Greg Iles",
                                    "2": "4.09",
                                    "3": "3",
                                    "4": "11652"
                                }
                            ]
                        },
                        "text/html": [
                            "<table>",
                            "<tr><th>title</th><th>authors</th><th>average_rating</th><th>count</th><th>tag_id</th></tr>",
                            "<tr><td>The Assassin and the Empire (Throne of Glass, #0.5)</td><td>Sarah J. Maas</td><td>4.42</td><td>7</td><td>11652</td></tr>",
                            "<tr><td>The Assassin and the Underworld (Throne of Glass, #0.4)</td><td>Sarah J. Maas</td><td>4.37</td><td>7</td><td>11652</td></tr>",
                            "<tr><td>Cardcaptor Sakura: Master of the Clow, Vol. 1 (Cardcaptor Sakura, #7)</td><td>CLAMP, Anita Sengupta</td><td>4.34</td><td>3</td><td>11652</td></tr>",
                            "<tr><td>Flag in Exile (Honor Harrington, #5)</td><td>David Weber</td><td>4.22</td><td>3</td><td>11652</td></tr>",
                            "<tr><td>The Honor of the Queen (Honor Harrington, #2)</td><td>David Weber</td><td>4.21</td><td>4</td><td>11652</td></tr>",
                            "<tr><td>Crown Duel (Crown &amp; Court #1-2)</td><td>Sherwood Smith</td><td>4.19</td><td>6</td><td>11652</td></tr>",
                            "<tr><td>Field of Dishonor (Honor Harrington, #4)</td><td>David Weber</td><td>4.19</td><td>3</td><td>11652</td></tr>",
                            "<tr><td>The Short Victorious War (Honor Harrington, #3)</td><td>David Weber</td><td>4.16</td><td>4</td><td>11652</td></tr>",
                            "<tr><td>The Riddle (The Books of Pellinor, #2)</td><td>Alison Croggon</td><td>4.1</td><td>4</td><td>11652</td></tr>",
                            "<tr><td>Blood Memory</td><td>Greg Iles</td><td>4.09</td><td>3</td><td>11652</td></tr>",
                            "</table>"
                        ]
                    }
                }
            ],
            "execution_count": 24
        },
        {
            "cell_type": "markdown",
            "source": [
                "### **Record your thoughts about why you wrote the query the way you did.**"
            ],
            "metadata": {
                "azdata_cell_guid": "1e19a72c-1bca-446b-a0c7-a8efbc35dcf1"
            },
            "attachments": {}
        },
        {
            "cell_type": "markdown",
            "source": [
                "# Part 2: Choose Another Month\n",
                "\n",
                "Choose another month and plan at least 2 events / promotions and answer the following questions.\n",
                "\n",
                "Which month did you choose?  December\n",
                "\n",
                "What 2 events / promotions are you highlighting?\n",
                "\n",
                "> 1. Valentines day\n",
                "\n",
                "> 2. presidents day"
            ],
            "metadata": {
                "azdata_cell_guid": "3eaf376d-9de3-4553-a9d0-9caf74ee3d6a"
            },
            "attachments": {}
        },
        {
            "cell_type": "markdown",
            "source": [
                "# Part 3: Summarize your Work\n",
                "\n",
                "For each event write at least one query that joins any two tables in the BooksDB to support your choice and record you thoughts as to why you used the paticlular query. At least one of your queries needs to include a HAVING clause."
            ],
            "metadata": {
                "azdata_cell_guid": "1ba1363a-4f02-4962-a95a-93b80c5926b1"
            },
            "attachments": {}
        },
        {
            "cell_type": "code",
            "source": [
                "-- Event 1 Query\n",
                "Select tag_id, tag_name\n",
                "From booksdb.dbo.tags\n",
                "where tag_name Like '%love%'\n",
                "\n",
                "-- a\n",
                "select top 10 b.title, bt.count, bt.tag_id\n",
                "from booksDB.dbo.books as b\n",
                "inner join booksDB.dbo.book_tags as bt\n",
                "on bt.goodreads_book_id = b.best_book_id\n",
                "where bt.tag_id = 18663\n",
                "order by bt.count desc;\n",
                "-- Books about love-stories\n",
                "select top 10 b.title, b.authors, b.average_rating, bt.count, bt.tag_id\n",
                "from booksDB.dbo.books as b\n",
                "inner join booksDB.dbo.book_tags as bt\n",
                "on bt.goodreads_book_id = b.best_book_id\n",
                "where bt.tag_id = 18663\n",
                "order by b.average_rating desc;"
            ],
            "metadata": {
                "azdata_cell_guid": "f50d32ce-4cb2-4af2-acb1-607777a76cf8",
                "language": "sql"
            },
            "outputs": [
                {
                    "output_type": "display_data",
                    "data": {
                        "text/html": "(164 rows affected)"
                    },
                    "metadata": {}
                },
                {
                    "output_type": "display_data",
                    "data": {
                        "text/html": "(10 rows affected)"
                    },
                    "metadata": {}
                },
                {
                    "output_type": "display_data",
                    "data": {
                        "text/html": "(10 rows affected)"
                    },
                    "metadata": {}
                },
                {
                    "output_type": "display_data",
                    "data": {
                        "text/html": "Total execution time: 00:00:09.820"
                    },
                    "metadata": {}
                },
                {
                    "output_type": "execute_result",
                    "metadata": {},
                    "execution_count": 57,
                    "data": {
                        "application/vnd.dataresource+json": {
                            "schema": {
                                "fields": [
                                    {
                                        "name": "tag_id"
                                    },
                                    {
                                        "name": "tag_name"
                                    }
                                ]
                            },
                            "data": [
                                {
                                    "0": "59",
                                    "1": "0-love-funny"
                                },
                                {
                                    "0": "1080",
                                    "1": "4-stars-loved-it"
                                },
                                {
                                    "0": "1100",
                                    "1": "48-days-to-the-work-you-love"
                                },
                                {
                                    "0": "1343",
                                    "1": "a-love-story"
                                },
                                {
                                    "0": "1492",
                                    "1": "absolutely-loved"
                                },
                                {
                                    "0": "1631",
                                    "1": "adoption-families-foster-homes-love"
                                },
                                {
                                    "0": "2080",
                                    "1": "all-love"
                                },
                                {
                                    "0": "2559",
                                    "1": "animal-lover"
                                },
                                {
                                    "0": "2560",
                                    "1": "animal-lovers"
                                },
                                {
                                    "0": "2800",
                                    "1": "apple-love"
                                },
                                {
                                    "0": "3749",
                                    "1": "baby-love"
                                },
                                {
                                    "0": "4060",
                                    "1": "be-the-writer-you-love"
                                },
                                {
                                    "0": "4248",
                                    "1": "beloved"
                                },
                                {
                                    "0": "4249",
                                    "1": "beloved-books"
                                },
                                {
                                    "0": "4250",
                                    "1": "beloved-by-me"
                                },
                                {
                                    "0": "4722",
                                    "1": "black-love"
                                },
                                {
                                    "0": "4997",
                                    "1": "book-lovers-calendar"
                                },
                                {
                                    "0": "5197",
                                    "1": "books-i-love"
                                },
                                {
                                    "0": "5198",
                                    "1": "books-i-loved"
                                },
                                {
                                    "0": "5199",
                                    "1": "books-i-loved-as-a-child"
                                },
                                {
                                    "0": "5200",
                                    "1": "books-i-loved-as-a-kid"
                                },
                                {
                                    "0": "5271",
                                    "1": "books-i-would-love-to-burn"
                                },
                                {
                                    "0": "5383",
                                    "1": "books-that-i-love"
                                },
                                {
                                    "0": "5401",
                                    "1": "books-to-love"
                                },
                                {
                                    "0": "5831",
                                    "1": "brotherly-love"
                                },
                                {
                                    "0": "6164",
                                    "1": "can-love-happen-twice"
                                },
                                {
                                    "0": "6165",
                                    "1": "can-love-happens-twice"
                                },
                                {
                                    "0": "6481",
                                    "1": "cee-loves"
                                },
                                {
                                    "0": "6643",
                                    "1": "charlie-lovett"
                                },
                                {
                                    "0": "6859",
                                    "1": "children-and-children-s-book-lovers"
                                },
                                {
                                    "0": "6896",
                                    "1": "children-s-books-i-love"
                                },
                                {
                                    "0": "7042",
                                    "1": "chocolate-lovers"
                                },
                                {
                                    "0": "7674",
                                    "1": "college-love"
                                },
                                {
                                    "0": "8141",
                                    "1": "cookbook-love"
                                },
                                {
                                    "0": "8173",
                                    "1": "cookbooks-i-love"
                                },
                                {
                                    "0": "8408",
                                    "1": "cover-love"
                                },
                                {
                                    "0": "8413",
                                    "1": "coverly-love"
                                },
                                {
                                    "0": "8415",
                                    "1": "covers-i-love"
                                },
                                {
                                    "0": "8462",
                                    "1": "crazy-love"
                                },
                                {
                                    "0": "8743",
                                    "1": "cute-love-story"
                                },
                                {
                                    "0": "9677",
                                    "1": "dog-lover"
                                },
                                {
                                    "0": "10615",
                                    "1": "enemies-to-lovers"
                                },
                                {
                                    "0": "10738",
                                    "1": "epic-love-story"
                                },
                                {
                                    "0": "11206",
                                    "1": "fallen-in-love"
                                },
                                {
                                    "0": "11877",
                                    "1": "fighting-for-love"
                                },
                                {
                                    "0": "12041",
                                    "1": "first-love"
                                },
                                {
                                    "0": "12324",
                                    "1": "for-the-love-of-twilight"
                                },
                                {
                                    "0": "12334",
                                    "1": "forbidden-love"
                                },
                                {
                                    "0": "12335",
                                    "1": "forbidden-love-affair"
                                },
                                {
                                    "0": "12598",
                                    "1": "friends-to-lovers"
                                },
                                {
                                    "0": "13238",
                                    "1": "girls-in-love"
                                },
                                {
                                    "0": "13628",
                                    "1": "great-loves"
                                },
                                {
                                    "0": "13775",
                                    "1": "guess-how-much-i-love-you"
                                },
                                {
                                    "0": "13828",
                                    "1": "h-p-lovecraft"
                                },
                                {
                                    "0": "14049",
                                    "1": "hate-love"
                                },
                                {
                                    "0": "14050",
                                    "1": "hate-to-love"
                                },
                                {
                                    "0": "14952",
                                    "1": "hp-lovecraft"
                                },
                                {
                                    "0": "15158",
                                    "1": "i-love-animals"
                                },
                                {
                                    "0": "15159",
                                    "1": "i-love-fiction-too"
                                },
                                {
                                    "0": "15160",
                                    "1": "i-love-vampire"
                                },
                                {
                                    "0": "15161",
                                    "1": "i-loved-the-book-if-you-need-a-good"
                                },
                                {
                                    "0": "15188",
                                    "1": "i-too-had-a-love-story"
                                },
                                {
                                    "0": "15382",
                                    "1": "in-love-w-the-main-character-s"
                                },
                                {
                                    "0": "15646",
                                    "1": "insta-love"
                                },
                                {
                                    "0": "15647",
                                    "1": "insta-love-or-lust-baby"
                                },
                                {
                                    "0": "15648",
                                    "1": "instalove"
                                },
                                {
                                    "0": "17130",
                                    "1": "kids-books-i-love"
                                },
                                {
                                    "0": "17737",
                                    "1": "lawyers-in-love"
                                },
                                {
                                    "0": "18610",
                                    "1": "lost-love"
                                },
                                {
                                    "0": "18611",
                                    "1": "lost-love-series"
                                },
                                {
                                    "0": "18640",
                                    "1": "love"
                                },
                                {
                                    "0": "18641",
                                    "1": "love-and-marriage"
                                },
                                {
                                    "0": "18642",
                                    "1": "love-and-relationships"
                                },
                                {
                                    "0": "18643",
                                    "1": "love-and-romance"
                                },
                                {
                                    "0": "18644",
                                    "1": "love-anthony"
                                },
                                {
                                    "0": "18645",
                                    "1": "love-at-stake"
                                },
                                {
                                    "0": "18646",
                                    "1": "love-at-stake-series"
                                },
                                {
                                    "0": "18647",
                                    "1": "love-books"
                                },
                                {
                                    "0": "18648",
                                    "1": "love-by-numbers"
                                },
                                {
                                    "0": "18649",
                                    "1": "love-com"
                                },
                                {
                                    "0": "18650",
                                    "1": "love-comes-softly"
                                },
                                {
                                    "0": "18651",
                                    "1": "love-comes-softly-series"
                                },
                                {
                                    "0": "18652",
                                    "1": "love-hate"
                                },
                                {
                                    "0": "18653",
                                    "1": "love-hate-relationship"
                                },
                                {
                                    "0": "18654",
                                    "1": "love-hina"
                                },
                                {
                                    "0": "18655",
                                    "1": "love-it"
                                },
                                {
                                    "0": "18656",
                                    "1": "love-love-love"
                                },
                                {
                                    "0": "18657",
                                    "1": "love-marriage"
                                },
                                {
                                    "0": "18658",
                                    "1": "love-me-with-lies"
                                },
                                {
                                    "0": "18659",
                                    "1": "love-of-reading"
                                },
                                {
                                    "0": "18660",
                                    "1": "love-relationships"
                                },
                                {
                                    "0": "18661",
                                    "1": "love-romance"
                                },
                                {
                                    "0": "18662",
                                    "1": "love-sex-money"
                                },
                                {
                                    "0": "18663",
                                    "1": "love-stories"
                                },
                                {
                                    "0": "18664",
                                    "1": "love-story"
                                },
                                {
                                    "0": "18665",
                                    "1": "love-story-1"
                                },
                                {
                                    "0": "18666",
                                    "1": "love-that-dog"
                                },
                                {
                                    "0": "18667",
                                    "1": "love-the-cover"
                                },
                                {
                                    "0": "18668",
                                    "1": "love-triangle"
                                },
                                {
                                    "0": "18669",
                                    "1": "love-triangle-it-is-complicated"
                                },
                                {
                                    "0": "18670",
                                    "1": "love-triangles"
                                },
                                {
                                    "0": "18671",
                                    "1": "love-triangles-i-hate"
                                },
                                {
                                    "0": "18672",
                                    "1": "love-you-to-death"
                                },
                                {
                                    "0": "18673",
                                    "1": "lovecraft"
                                },
                                {
                                    "0": "18674",
                                    "1": "lovecraft-and-lovecraftian-circle"
                                },
                                {
                                    "0": "18675",
                                    "1": "lovecraft-h-p"
                                },
                                {
                                    "0": "18676",
                                    "1": "lovecraft-weird-horror"
                                },
                                {
                                    "0": "18677",
                                    "1": "lovecraftian"
                                },
                                {
                                    "0": "18678",
                                    "1": "lovecraftian-horror"
                                },
                                {
                                    "0": "18679",
                                    "1": "lovecraftian-mythos"
                                },
                                {
                                    "0": "18680",
                                    "1": "loved"
                                },
                                {
                                    "0": "18681",
                                    "1": "loved-as-a-kid"
                                },
                                {
                                    "0": "18682",
                                    "1": "loved-it"
                                },
                                {
                                    "0": "18683",
                                    "1": "loved-some-recent-some-long-ago"
                                },
                                {
                                    "0": "18684",
                                    "1": "loved-these"
                                },
                                {
                                    "0": "18685",
                                    "1": "lovely"
                                },
                                {
                                    "0": "18686",
                                    "1": "lovely-complex"
                                },
                                {
                                    "0": "18687",
                                    "1": "lovely-intriguing"
                                },
                                {
                                    "0": "18688",
                                    "1": "loveozya"
                                },
                                {
                                    "0": "18689",
                                    "1": "lovesick-maidens"
                                },
                                {
                                    "0": "18690",
                                    "1": "lovestory"
                                },
                                {
                                    "0": "18691",
                                    "1": "lovey-dovey"
                                },
                                {
                                    "0": "18871",
                                    "1": "mafia-love"
                                },
                                {
                                    "0": "19480",
                                    "1": "maud-hart-lovelace"
                                },
                                {
                                    "0": "20488",
                                    "1": "most-beloved"
                                },
                                {
                                    "0": "20489",
                                    "1": "most-beloved-books"
                                },
                                {
                                    "0": "20609",
                                    "1": "much-loved"
                                },
                                {
                                    "0": "20634",
                                    "1": "multiple-lovers"
                                },
                                {
                                    "0": "20855",
                                    "1": "my-lovely-book-x1f49e"
                                },
                                {
                                    "0": "22172",
                                    "1": "obsessive-love"
                                },
                                {
                                    "0": "22207",
                                    "1": "of-course-i-love-you"
                                },
                                {
                                    "0": "22208",
                                    "1": "of-course-i-love-you-till-i-find-so"
                                },
                                {
                                    "0": "22338",
                                    "1": "on-love"
                                },
                                {
                                    "0": "23236",
                                    "1": "penguin-great-loves"
                                },
                                {
                                    "0": "25024",
                                    "1": "read-and-loved"
                                },
                                {
                                    "0": "25221",
                                    "1": "read-loved"
                                },
                                {
                                    "0": "25547",
                                    "1": "redeeming-love"
                                },
                                {
                                    "0": "26157",
                                    "1": "romance-love"
                                },
                                {
                                    "0": "26201",
                                    "1": "romantic-love-stories"
                                },
                                {
                                    "0": "27017",
                                    "1": "second-chance-love"
                                },
                                {
                                    "0": "27115",
                                    "1": "self-love"
                                },
                                {
                                    "0": "27253",
                                    "1": "series-i-love"
                                },
                                {
                                    "0": "27272",
                                    "1": "series-love-at-stake"
                                },
                                {
                                    "0": "27323",
                                    "1": "series-wicked-lovely"
                                },
                                {
                                    "0": "27326",
                                    "1": "seriesandauthorsilove"
                                },
                                {
                                    "0": "27932",
                                    "1": "slovenia"
                                },
                                {
                                    "0": "28091",
                                    "1": "someone-to-love"
                                },
                                {
                                    "0": "28867",
                                    "1": "stuff-i-loved"
                                },
                                {
                                    "0": "28961",
                                    "1": "summer-love"
                                },
                                {
                                    "0": "29040",
                                    "1": "surrender-your-love"
                                },
                                {
                                    "0": "29041",
                                    "1": "surrender-your-love-series"
                                },
                                {
                                    "0": "29861",
                                    "1": "the-i-love-books"
                                },
                                {
                                    "0": "29950",
                                    "1": "the-mastery-of-love"
                                },
                                {
                                    "0": "29988",
                                    "1": "the-ones-i-loved"
                                },
                                {
                                    "0": "30022",
                                    "1": "the-power-of-love"
                                },
                                {
                                    "0": "30727",
                                    "1": "to-read-lovecraft"
                                },
                                {
                                    "0": "31578",
                                    "1": "unrequited-love"
                                },
                                {
                                    "0": "32383",
                                    "1": "what-i-love-best"
                                },
                                {
                                    "0": "32438",
                                    "1": "why-men-love-bitches"
                                },
                                {
                                    "0": "32448",
                                    "1": "wicked-lovely"
                                },
                                {
                                    "0": "32449",
                                    "1": "wicked-lovely-series"
                                },
                                {
                                    "0": "32450",
                                    "1": "wicked-lovers"
                                },
                                {
                                    "0": "32451",
                                    "1": "wicked-lovers-series"
                                },
                                {
                                    "0": "33148",
                                    "1": "young-love"
                                }
                            ]
                        },
                        "text/html": [
                            "<table>",
                            "<tr><th>tag_id</th><th>tag_name</th></tr>",
                            "<tr><td>59</td><td>0-love-funny</td></tr>",
                            "<tr><td>1080</td><td>4-stars-loved-it</td></tr>",
                            "<tr><td>1100</td><td>48-days-to-the-work-you-love</td></tr>",
                            "<tr><td>1343</td><td>a-love-story</td></tr>",
                            "<tr><td>1492</td><td>absolutely-loved</td></tr>",
                            "<tr><td>1631</td><td>adoption-families-foster-homes-love</td></tr>",
                            "<tr><td>2080</td><td>all-love</td></tr>",
                            "<tr><td>2559</td><td>animal-lover</td></tr>",
                            "<tr><td>2560</td><td>animal-lovers</td></tr>",
                            "<tr><td>2800</td><td>apple-love</td></tr>",
                            "<tr><td>3749</td><td>baby-love</td></tr>",
                            "<tr><td>4060</td><td>be-the-writer-you-love</td></tr>",
                            "<tr><td>4248</td><td>beloved</td></tr>",
                            "<tr><td>4249</td><td>beloved-books</td></tr>",
                            "<tr><td>4250</td><td>beloved-by-me</td></tr>",
                            "<tr><td>4722</td><td>black-love</td></tr>",
                            "<tr><td>4997</td><td>book-lovers-calendar</td></tr>",
                            "<tr><td>5197</td><td>books-i-love</td></tr>",
                            "<tr><td>5198</td><td>books-i-loved</td></tr>",
                            "<tr><td>5199</td><td>books-i-loved-as-a-child</td></tr>",
                            "<tr><td>5200</td><td>books-i-loved-as-a-kid</td></tr>",
                            "<tr><td>5271</td><td>books-i-would-love-to-burn</td></tr>",
                            "<tr><td>5383</td><td>books-that-i-love</td></tr>",
                            "<tr><td>5401</td><td>books-to-love</td></tr>",
                            "<tr><td>5831</td><td>brotherly-love</td></tr>",
                            "<tr><td>6164</td><td>can-love-happen-twice</td></tr>",
                            "<tr><td>6165</td><td>can-love-happens-twice</td></tr>",
                            "<tr><td>6481</td><td>cee-loves</td></tr>",
                            "<tr><td>6643</td><td>charlie-lovett</td></tr>",
                            "<tr><td>6859</td><td>children-and-children-s-book-lovers</td></tr>",
                            "<tr><td>6896</td><td>children-s-books-i-love</td></tr>",
                            "<tr><td>7042</td><td>chocolate-lovers</td></tr>",
                            "<tr><td>7674</td><td>college-love</td></tr>",
                            "<tr><td>8141</td><td>cookbook-love</td></tr>",
                            "<tr><td>8173</td><td>cookbooks-i-love</td></tr>",
                            "<tr><td>8408</td><td>cover-love</td></tr>",
                            "<tr><td>8413</td><td>coverly-love</td></tr>",
                            "<tr><td>8415</td><td>covers-i-love</td></tr>",
                            "<tr><td>8462</td><td>crazy-love</td></tr>",
                            "<tr><td>8743</td><td>cute-love-story</td></tr>",
                            "<tr><td>9677</td><td>dog-lover</td></tr>",
                            "<tr><td>10615</td><td>enemies-to-lovers</td></tr>",
                            "<tr><td>10738</td><td>epic-love-story</td></tr>",
                            "<tr><td>11206</td><td>fallen-in-love</td></tr>",
                            "<tr><td>11877</td><td>fighting-for-love</td></tr>",
                            "<tr><td>12041</td><td>first-love</td></tr>",
                            "<tr><td>12324</td><td>for-the-love-of-twilight</td></tr>",
                            "<tr><td>12334</td><td>forbidden-love</td></tr>",
                            "<tr><td>12335</td><td>forbidden-love-affair</td></tr>",
                            "<tr><td>12598</td><td>friends-to-lovers</td></tr>",
                            "<tr><td>13238</td><td>girls-in-love</td></tr>",
                            "<tr><td>13628</td><td>great-loves</td></tr>",
                            "<tr><td>13775</td><td>guess-how-much-i-love-you</td></tr>",
                            "<tr><td>13828</td><td>h-p-lovecraft</td></tr>",
                            "<tr><td>14049</td><td>hate-love</td></tr>",
                            "<tr><td>14050</td><td>hate-to-love</td></tr>",
                            "<tr><td>14952</td><td>hp-lovecraft</td></tr>",
                            "<tr><td>15158</td><td>i-love-animals</td></tr>",
                            "<tr><td>15159</td><td>i-love-fiction-too</td></tr>",
                            "<tr><td>15160</td><td>i-love-vampire</td></tr>",
                            "<tr><td>15161</td><td>i-loved-the-book-if-you-need-a-good</td></tr>",
                            "<tr><td>15188</td><td>i-too-had-a-love-story</td></tr>",
                            "<tr><td>15382</td><td>in-love-w-the-main-character-s</td></tr>",
                            "<tr><td>15646</td><td>insta-love</td></tr>",
                            "<tr><td>15647</td><td>insta-love-or-lust-baby</td></tr>",
                            "<tr><td>15648</td><td>instalove</td></tr>",
                            "<tr><td>17130</td><td>kids-books-i-love</td></tr>",
                            "<tr><td>17737</td><td>lawyers-in-love</td></tr>",
                            "<tr><td>18610</td><td>lost-love</td></tr>",
                            "<tr><td>18611</td><td>lost-love-series</td></tr>",
                            "<tr><td>18640</td><td>love</td></tr>",
                            "<tr><td>18641</td><td>love-and-marriage</td></tr>",
                            "<tr><td>18642</td><td>love-and-relationships</td></tr>",
                            "<tr><td>18643</td><td>love-and-romance</td></tr>",
                            "<tr><td>18644</td><td>love-anthony</td></tr>",
                            "<tr><td>18645</td><td>love-at-stake</td></tr>",
                            "<tr><td>18646</td><td>love-at-stake-series</td></tr>",
                            "<tr><td>18647</td><td>love-books</td></tr>",
                            "<tr><td>18648</td><td>love-by-numbers</td></tr>",
                            "<tr><td>18649</td><td>love-com</td></tr>",
                            "<tr><td>18650</td><td>love-comes-softly</td></tr>",
                            "<tr><td>18651</td><td>love-comes-softly-series</td></tr>",
                            "<tr><td>18652</td><td>love-hate</td></tr>",
                            "<tr><td>18653</td><td>love-hate-relationship</td></tr>",
                            "<tr><td>18654</td><td>love-hina</td></tr>",
                            "<tr><td>18655</td><td>love-it</td></tr>",
                            "<tr><td>18656</td><td>love-love-love</td></tr>",
                            "<tr><td>18657</td><td>love-marriage</td></tr>",
                            "<tr><td>18658</td><td>love-me-with-lies</td></tr>",
                            "<tr><td>18659</td><td>love-of-reading</td></tr>",
                            "<tr><td>18660</td><td>love-relationships</td></tr>",
                            "<tr><td>18661</td><td>love-romance</td></tr>",
                            "<tr><td>18662</td><td>love-sex-money</td></tr>",
                            "<tr><td>18663</td><td>love-stories</td></tr>",
                            "<tr><td>18664</td><td>love-story</td></tr>",
                            "<tr><td>18665</td><td>love-story-1</td></tr>",
                            "<tr><td>18666</td><td>love-that-dog</td></tr>",
                            "<tr><td>18667</td><td>love-the-cover</td></tr>",
                            "<tr><td>18668</td><td>love-triangle</td></tr>",
                            "<tr><td>18669</td><td>love-triangle-it-is-complicated</td></tr>",
                            "<tr><td>18670</td><td>love-triangles</td></tr>",
                            "<tr><td>18671</td><td>love-triangles-i-hate</td></tr>",
                            "<tr><td>18672</td><td>love-you-to-death</td></tr>",
                            "<tr><td>18673</td><td>lovecraft</td></tr>",
                            "<tr><td>18674</td><td>lovecraft-and-lovecraftian-circle</td></tr>",
                            "<tr><td>18675</td><td>lovecraft-h-p</td></tr>",
                            "<tr><td>18676</td><td>lovecraft-weird-horror</td></tr>",
                            "<tr><td>18677</td><td>lovecraftian</td></tr>",
                            "<tr><td>18678</td><td>lovecraftian-horror</td></tr>",
                            "<tr><td>18679</td><td>lovecraftian-mythos</td></tr>",
                            "<tr><td>18680</td><td>loved</td></tr>",
                            "<tr><td>18681</td><td>loved-as-a-kid</td></tr>",
                            "<tr><td>18682</td><td>loved-it</td></tr>",
                            "<tr><td>18683</td><td>loved-some-recent-some-long-ago</td></tr>",
                            "<tr><td>18684</td><td>loved-these</td></tr>",
                            "<tr><td>18685</td><td>lovely</td></tr>",
                            "<tr><td>18686</td><td>lovely-complex</td></tr>",
                            "<tr><td>18687</td><td>lovely-intriguing</td></tr>",
                            "<tr><td>18688</td><td>loveozya</td></tr>",
                            "<tr><td>18689</td><td>lovesick-maidens</td></tr>",
                            "<tr><td>18690</td><td>lovestory</td></tr>",
                            "<tr><td>18691</td><td>lovey-dovey</td></tr>",
                            "<tr><td>18871</td><td>mafia-love</td></tr>",
                            "<tr><td>19480</td><td>maud-hart-lovelace</td></tr>",
                            "<tr><td>20488</td><td>most-beloved</td></tr>",
                            "<tr><td>20489</td><td>most-beloved-books</td></tr>",
                            "<tr><td>20609</td><td>much-loved</td></tr>",
                            "<tr><td>20634</td><td>multiple-lovers</td></tr>",
                            "<tr><td>20855</td><td>my-lovely-book-x1f49e</td></tr>",
                            "<tr><td>22172</td><td>obsessive-love</td></tr>",
                            "<tr><td>22207</td><td>of-course-i-love-you</td></tr>",
                            "<tr><td>22208</td><td>of-course-i-love-you-till-i-find-so</td></tr>",
                            "<tr><td>22338</td><td>on-love</td></tr>",
                            "<tr><td>23236</td><td>penguin-great-loves</td></tr>",
                            "<tr><td>25024</td><td>read-and-loved</td></tr>",
                            "<tr><td>25221</td><td>read-loved</td></tr>",
                            "<tr><td>25547</td><td>redeeming-love</td></tr>",
                            "<tr><td>26157</td><td>romance-love</td></tr>",
                            "<tr><td>26201</td><td>romantic-love-stories</td></tr>",
                            "<tr><td>27017</td><td>second-chance-love</td></tr>",
                            "<tr><td>27115</td><td>self-love</td></tr>",
                            "<tr><td>27253</td><td>series-i-love</td></tr>",
                            "<tr><td>27272</td><td>series-love-at-stake</td></tr>",
                            "<tr><td>27323</td><td>series-wicked-lovely</td></tr>",
                            "<tr><td>27326</td><td>seriesandauthorsilove</td></tr>",
                            "<tr><td>27932</td><td>slovenia</td></tr>",
                            "<tr><td>28091</td><td>someone-to-love</td></tr>",
                            "<tr><td>28867</td><td>stuff-i-loved</td></tr>",
                            "<tr><td>28961</td><td>summer-love</td></tr>",
                            "<tr><td>29040</td><td>surrender-your-love</td></tr>",
                            "<tr><td>29041</td><td>surrender-your-love-series</td></tr>",
                            "<tr><td>29861</td><td>the-i-love-books</td></tr>",
                            "<tr><td>29950</td><td>the-mastery-of-love</td></tr>",
                            "<tr><td>29988</td><td>the-ones-i-loved</td></tr>",
                            "<tr><td>30022</td><td>the-power-of-love</td></tr>",
                            "<tr><td>30727</td><td>to-read-lovecraft</td></tr>",
                            "<tr><td>31578</td><td>unrequited-love</td></tr>",
                            "<tr><td>32383</td><td>what-i-love-best</td></tr>",
                            "<tr><td>32438</td><td>why-men-love-bitches</td></tr>",
                            "<tr><td>32448</td><td>wicked-lovely</td></tr>",
                            "<tr><td>32449</td><td>wicked-lovely-series</td></tr>",
                            "<tr><td>32450</td><td>wicked-lovers</td></tr>",
                            "<tr><td>32451</td><td>wicked-lovers-series</td></tr>",
                            "<tr><td>33148</td><td>young-love</td></tr>",
                            "</table>"
                        ]
                    }
                },
                {
                    "output_type": "execute_result",
                    "metadata": {},
                    "execution_count": 57,
                    "data": {
                        "application/vnd.dataresource+json": {
                            "schema": {
                                "fields": [
                                    {
                                        "name": "title"
                                    },
                                    {
                                        "name": "count"
                                    },
                                    {
                                        "name": "tag_id"
                                    }
                                ]
                            },
                            "data": [
                                {
                                    "0": "The Notebook (The Notebook, #1)",
                                    "1": "191",
                                    "2": "18663"
                                },
                                {
                                    "0": "A Walk to Remember",
                                    "1": "127",
                                    "2": "18663"
                                },
                                {
                                    "0": "Eleanor & Park",
                                    "1": "120",
                                    "2": "18663"
                                },
                                {
                                    "0": "Breaking Dawn (Twilight, #4)",
                                    "1": "117",
                                    "2": "18663"
                                },
                                {
                                    "0": "Dear John",
                                    "1": "106",
                                    "2": "18663"
                                },
                                {
                                    "0": "Me Before You (Me Before You, #1)",
                                    "1": "100",
                                    "2": "18663"
                                },
                                {
                                    "0": "The Last Song",
                                    "1": "92",
                                    "2": "18663"
                                },
                                {
                                    "0": "Romeo and Juliet",
                                    "1": "92",
                                    "2": "18663"
                                },
                                {
                                    "0": "Safe Haven",
                                    "1": "87",
                                    "2": "18663"
                                },
                                {
                                    "0": "The Lucky One",
                                    "1": "84",
                                    "2": "18663"
                                }
                            ]
                        },
                        "text/html": [
                            "<table>",
                            "<tr><th>title</th><th>count</th><th>tag_id</th></tr>",
                            "<tr><td>The Notebook (The Notebook, #1)</td><td>191</td><td>18663</td></tr>",
                            "<tr><td>A Walk to Remember</td><td>127</td><td>18663</td></tr>",
                            "<tr><td>Eleanor &amp; Park</td><td>120</td><td>18663</td></tr>",
                            "<tr><td>Breaking Dawn (Twilight, #4)</td><td>117</td><td>18663</td></tr>",
                            "<tr><td>Dear John</td><td>106</td><td>18663</td></tr>",
                            "<tr><td>Me Before You (Me Before You, #1)</td><td>100</td><td>18663</td></tr>",
                            "<tr><td>The Last Song</td><td>92</td><td>18663</td></tr>",
                            "<tr><td>Romeo and Juliet</td><td>92</td><td>18663</td></tr>",
                            "<tr><td>Safe Haven</td><td>87</td><td>18663</td></tr>",
                            "<tr><td>The Lucky One</td><td>84</td><td>18663</td></tr>",
                            "</table>"
                        ]
                    }
                },
                {
                    "output_type": "execute_result",
                    "metadata": {},
                    "execution_count": 57,
                    "data": {
                        "application/vnd.dataresource+json": {
                            "schema": {
                                "fields": [
                                    {
                                        "name": "title"
                                    },
                                    {
                                        "name": "authors"
                                    },
                                    {
                                        "name": "average_rating"
                                    },
                                    {
                                        "name": "count"
                                    },
                                    {
                                        "name": "tag_id"
                                    }
                                ]
                            },
                            "data": [
                                {
                                    "0": "Reunion (Redemption, #5)",
                                    "1": "Karen Kingsbury, Gary Smalley",
                                    "2": "4.49",
                                    "3": "2",
                                    "4": "18663"
                                },
                                {
                                    "0": "Redeeming Love",
                                    "1": "Francine Rivers",
                                    "2": "4.48",
                                    "3": "22",
                                    "4": "18663"
                                },
                                {
                                    "0": "Remember (Redemption, #2)",
                                    "1": "Karen Kingsbury, Gary Smalley",
                                    "2": "4.41",
                                    "3": "2",
                                    "4": "18663"
                                },
                                {
                                    "0": "Edenbrooke (Edenbrooke, #1)",
                                    "1": "Julianne Donaldson",
                                    "2": "4.34",
                                    "3": "15",
                                    "4": "18663"
                                },
                                {
                                    "0": "Barely Breathing (Breathing, #2)",
                                    "1": "Rebecca Donovan",
                                    "2": "4.33",
                                    "3": "13",
                                    "4": "18663"
                                },
                                {
                                    "0": "Almost Heaven (Sequels, #3)",
                                    "1": "Judith McNaught",
                                    "2": "4.33",
                                    "3": "7",
                                    "4": "18663"
                                },
                                {
                                    "0": "Independence (Significance, #4)",
                                    "1": "Shelly Crane",
                                    "2": "4.32",
                                    "3": "6",
                                    "4": "18663"
                                },
                                {
                                    "0": "Tatiana and Alexander (The Bronze Horseman, #2)",
                                    "1": "Paullina Simons",
                                    "2": "4.3",
                                    "3": "13",
                                    "4": "18663"
                                },
                                {
                                    "0": "Me Before You (Me Before You, #1)",
                                    "1": "Jojo Moyes",
                                    "2": "4.27",
                                    "3": "100",
                                    "4": "18663"
                                },
                                {
                                    "0": "Love Unrehearsed (Love, #2)",
                                    "1": "Tina Reber",
                                    "2": "4.26",
                                    "3": "11",
                                    "4": "18663"
                                }
                            ]
                        },
                        "text/html": [
                            "<table>",
                            "<tr><th>title</th><th>authors</th><th>average_rating</th><th>count</th><th>tag_id</th></tr>",
                            "<tr><td>Reunion (Redemption, #5)</td><td>Karen Kingsbury, Gary Smalley</td><td>4.49</td><td>2</td><td>18663</td></tr>",
                            "<tr><td>Redeeming Love</td><td>Francine Rivers</td><td>4.48</td><td>22</td><td>18663</td></tr>",
                            "<tr><td>Remember (Redemption, #2)</td><td>Karen Kingsbury, Gary Smalley</td><td>4.41</td><td>2</td><td>18663</td></tr>",
                            "<tr><td>Edenbrooke (Edenbrooke, #1)</td><td>Julianne Donaldson</td><td>4.34</td><td>15</td><td>18663</td></tr>",
                            "<tr><td>Barely Breathing (Breathing, #2)</td><td>Rebecca Donovan</td><td>4.33</td><td>13</td><td>18663</td></tr>",
                            "<tr><td>Almost Heaven (Sequels, #3)</td><td>Judith McNaught</td><td>4.33</td><td>7</td><td>18663</td></tr>",
                            "<tr><td>Independence (Significance, #4)</td><td>Shelly Crane</td><td>4.32</td><td>6</td><td>18663</td></tr>",
                            "<tr><td>Tatiana and Alexander (The Bronze Horseman, #2)</td><td>Paullina Simons</td><td>4.3</td><td>13</td><td>18663</td></tr>",
                            "<tr><td>Me Before You (Me Before You, #1)</td><td>Jojo Moyes</td><td>4.27</td><td>100</td><td>18663</td></tr>",
                            "<tr><td>Love Unrehearsed (Love, #2)</td><td>Tina Reber</td><td>4.26</td><td>11</td><td>18663</td></tr>",
                            "</table>"
                        ]
                    }
                }
            ],
            "execution_count": 57
        },
        {
            "cell_type": "code",
            "source": [
                ""
            ],
            "metadata": {
                "azdata_cell_guid": "5606f7f2-c46b-42d3-ac64-7ae21c3394f8",
                "language": "sql"
            },
            "outputs": [],
            "execution_count": null
        },
        {
            "cell_type": "markdown",
            "source": [
                "### **Summary of event 1:**\n",
                "\n",
                "I made a list of the top 10 best rated books tagged with 'love stories' for a valentines day event."
            ],
            "metadata": {
                "azdata_cell_guid": "3bc72d4c-077b-42d3-9528-9aff8e7b6cf3"
            },
            "attachments": {}
        },
        {
            "cell_type": "code",
            "source": [
                "-- Event 2 Query\n",
                "Select tag_id, tag_name\n",
                "From booksdb.dbo.tags\n",
                "where tag_name Like '%president%'\n",
                "\n",
                "-- a\n",
                "select top 10 b.title, bt.count, bt.tag_id\n",
                "from booksDB.dbo.books as b\n",
                "inner join booksDB.dbo.book_tags as bt\n",
                "on bt.goodreads_book_id = b.best_book_id\n",
                "where bt.tag_id = 24246\n",
                "order by bt.count desc;\n",
                "-- books about presidents\n",
                "select top 10 b.title, b.authors, b.average_rating, bt.count, bt.tag_id\n",
                "from booksDB.dbo.books as b\n",
                "inner join booksDB.dbo.book_tags as bt\n",
                "on bt.goodreads_book_id = b.best_book_id\n",
                "where bt.tag_id = 24246\n",
                "order by b.average_rating desc;"
            ],
            "metadata": {
                "azdata_cell_guid": "dca0a98f-065f-4b0e-9d93-fcb01cad668c",
                "language": "sql"
            },
            "outputs": [
                {
                    "output_type": "display_data",
                    "data": {
                        "text/html": "(23 rows affected)"
                    },
                    "metadata": {}
                },
                {
                    "output_type": "display_data",
                    "data": {
                        "text/html": "(10 rows affected)"
                    },
                    "metadata": {}
                },
                {
                    "output_type": "display_data",
                    "data": {
                        "text/html": "(10 rows affected)"
                    },
                    "metadata": {}
                },
                {
                    "output_type": "display_data",
                    "data": {
                        "text/html": "Total execution time: 00:00:00.298"
                    },
                    "metadata": {}
                },
                {
                    "output_type": "execute_result",
                    "metadata": {},
                    "execution_count": 51,
                    "data": {
                        "application/vnd.dataresource+json": {
                            "schema": {
                                "fields": [
                                    {
                                        "name": "tag_id"
                                    },
                                    {
                                        "name": "tag_name"
                                    }
                                ]
                            },
                            "data": [
                                {
                                    "0": "632",
                                    "1": "2008-presidential-campaign"
                                },
                                {
                                    "0": "635",
                                    "1": "2008-us-presidential-campaign"
                                },
                                {
                                    "0": "2270",
                                    "1": "amercian-history-presidents"
                                },
                                {
                                    "0": "2321",
                                    "1": "american-president"
                                },
                                {
                                    "0": "2322",
                                    "1": "american-presidents"
                                },
                                {
                                    "0": "3263",
                                    "1": "assassination-of-president"
                                },
                                {
                                    "0": "17122",
                                    "1": "kidnapping-president-s-children"
                                },
                                {
                                    "0": "24236",
                                    "1": "president"
                                },
                                {
                                    "0": "24237",
                                    "1": "president-biographies"
                                },
                                {
                                    "0": "24238",
                                    "1": "presidential"
                                },
                                {
                                    "0": "24239",
                                    "1": "presidential-biographies"
                                },
                                {
                                    "0": "24240",
                                    "1": "presidential-biography"
                                },
                                {
                                    "0": "24241",
                                    "1": "presidential-bios"
                                },
                                {
                                    "0": "24242",
                                    "1": "presidential-challenge"
                                },
                                {
                                    "0": "24243",
                                    "1": "presidential-election"
                                },
                                {
                                    "0": "24244",
                                    "1": "presidential-history"
                                },
                                {
                                    "0": "24245",
                                    "1": "presidential-series"
                                },
                                {
                                    "0": "24246",
                                    "1": "presidents"
                                },
                                {
                                    "0": "30031",
                                    "1": "the-presidents"
                                },
                                {
                                    "0": "30784",
                                    "1": "to-read-presidents"
                                },
                                {
                                    "0": "31416",
                                    "1": "u-s-presidents"
                                },
                                {
                                    "0": "31653",
                                    "1": "us-presidents"
                                },
                                {
                                    "0": "31851",
                                    "1": "vice-presidential"
                                }
                            ]
                        },
                        "text/html": [
                            "<table>",
                            "<tr><th>tag_id</th><th>tag_name</th></tr>",
                            "<tr><td>632</td><td>2008-presidential-campaign</td></tr>",
                            "<tr><td>635</td><td>2008-us-presidential-campaign</td></tr>",
                            "<tr><td>2270</td><td>amercian-history-presidents</td></tr>",
                            "<tr><td>2321</td><td>american-president</td></tr>",
                            "<tr><td>2322</td><td>american-presidents</td></tr>",
                            "<tr><td>3263</td><td>assassination-of-president</td></tr>",
                            "<tr><td>17122</td><td>kidnapping-president-s-children</td></tr>",
                            "<tr><td>24236</td><td>president</td></tr>",
                            "<tr><td>24237</td><td>president-biographies</td></tr>",
                            "<tr><td>24238</td><td>presidential</td></tr>",
                            "<tr><td>24239</td><td>presidential-biographies</td></tr>",
                            "<tr><td>24240</td><td>presidential-biography</td></tr>",
                            "<tr><td>24241</td><td>presidential-bios</td></tr>",
                            "<tr><td>24242</td><td>presidential-challenge</td></tr>",
                            "<tr><td>24243</td><td>presidential-election</td></tr>",
                            "<tr><td>24244</td><td>presidential-history</td></tr>",
                            "<tr><td>24245</td><td>presidential-series</td></tr>",
                            "<tr><td>24246</td><td>presidents</td></tr>",
                            "<tr><td>30031</td><td>the-presidents</td></tr>",
                            "<tr><td>30784</td><td>to-read-presidents</td></tr>",
                            "<tr><td>31416</td><td>u-s-presidents</td></tr>",
                            "<tr><td>31653</td><td>us-presidents</td></tr>",
                            "<tr><td>31851</td><td>vice-presidential</td></tr>",
                            "</table>"
                        ]
                    }
                },
                {
                    "output_type": "execute_result",
                    "metadata": {},
                    "execution_count": 51,
                    "data": {
                        "application/vnd.dataresource+json": {
                            "schema": {
                                "fields": [
                                    {
                                        "name": "title"
                                    },
                                    {
                                        "name": "count"
                                    },
                                    {
                                        "name": "tag_id"
                                    }
                                ]
                            },
                            "data": [
                                {
                                    "0": "John Adams",
                                    "1": "371",
                                    "2": "24246"
                                },
                                {
                                    "0": "Truman",
                                    "1": "227",
                                    "2": "24246"
                                },
                                {
                                    "0": "American Lion: Andrew Jackson in the White House",
                                    "1": "200",
                                    "2": "24246"
                                },
                                {
                                    "0": "Team of Rivals: The Political Genius of Abraham Lincoln",
                                    "1": "199",
                                    "2": "24246"
                                },
                                {
                                    "0": "Destiny of the Republic: A Tale of Madness, Medicine and the Murder of a President",
                                    "1": "199",
                                    "2": "24246"
                                },
                                {
                                    "0": "Washington: A Life",
                                    "1": "190",
                                    "2": "24246"
                                },
                                {
                                    "0": "His Excellency: George Washington",
                                    "1": "164",
                                    "2": "24246"
                                },
                                {
                                    "0": "Thomas Jefferson: The Art of Power",
                                    "1": "161",
                                    "2": "24246"
                                },
                                {
                                    "0": "The Rise of Theodore Roosevelt",
                                    "1": "156",
                                    "2": "24246"
                                },
                                {
                                    "0": "Theodore Rex",
                                    "1": "150",
                                    "2": "24246"
                                }
                            ]
                        },
                        "text/html": [
                            "<table>",
                            "<tr><th>title</th><th>count</th><th>tag_id</th></tr>",
                            "<tr><td>John Adams</td><td>371</td><td>24246</td></tr>",
                            "<tr><td>Truman</td><td>227</td><td>24246</td></tr>",
                            "<tr><td>American Lion: Andrew Jackson in the White House</td><td>200</td><td>24246</td></tr>",
                            "<tr><td>Team of Rivals: The Political Genius of Abraham Lincoln</td><td>199</td><td>24246</td></tr>",
                            "<tr><td>Destiny of the Republic: A Tale of Madness, Medicine and the Murder of a President</td><td>199</td><td>24246</td></tr>",
                            "<tr><td>Washington: A Life</td><td>190</td><td>24246</td></tr>",
                            "<tr><td>His Excellency: George Washington</td><td>164</td><td>24246</td></tr>",
                            "<tr><td>Thomas Jefferson: The Art of Power</td><td>161</td><td>24246</td></tr>",
                            "<tr><td>The Rise of Theodore Roosevelt</td><td>156</td><td>24246</td></tr>",
                            "<tr><td>Theodore Rex</td><td>150</td><td>24246</td></tr>",
                            "</table>"
                        ]
                    }
                },
                {
                    "output_type": "execute_result",
                    "metadata": {},
                    "execution_count": 51,
                    "data": {
                        "application/vnd.dataresource+json": {
                            "schema": {
                                "fields": [
                                    {
                                        "name": "title"
                                    },
                                    {
                                        "name": "authors"
                                    },
                                    {
                                        "name": "average_rating"
                                    },
                                    {
                                        "name": "count"
                                    },
                                    {
                                        "name": "tag_id"
                                    }
                                ]
                            },
                            "data": [
                                {
                                    "0": "The Path to Power (The Years of Lyndon Johnson, #1)",
                                    "1": "Robert A. Caro",
                                    "2": "4.42",
                                    "3": "92",
                                    "4": "24246"
                                },
                                {
                                    "0": "Master of the Senate (The Years of Lyndon Johnson, #3)",
                                    "1": "Robert A. Caro",
                                    "2": "4.41",
                                    "3": "74",
                                    "4": "24246"
                                },
                                {
                                    "0": "Team of Rivals: The Political Genius of Abraham Lincoln",
                                    "1": "Doris Kearns Goodwin, Suzanne Toren",
                                    "2": "4.3",
                                    "3": "199",
                                    "4": "24246"
                                },
                                {
                                    "0": "Alexander Hamilton",
                                    "1": "Ron Chernow",
                                    "2": "4.26",
                                    "3": "20",
                                    "4": "24246"
                                },
                                {
                                    "0": "The Rise of Theodore Roosevelt",
                                    "1": "Edmund Morris",
                                    "2": "4.25",
                                    "3": "156",
                                    "4": "24246"
                                },
                                {
                                    "0": "Means of Ascent (The Years of Lyndon Johnson, #2)",
                                    "1": "Robert A. Caro",
                                    "2": "4.25",
                                    "3": "58",
                                    "4": "24246"
                                },
                                {
                                    "0": "America's First Daughter",
                                    "1": "Stephanie Dray, Laura Kamoie",
                                    "2": "4.22",
                                    "3": "8",
                                    "4": "24246"
                                },
                                {
                                    "0": "A. Lincoln",
                                    "1": "Ronald C. White Jr.",
                                    "2": "4.22",
                                    "3": "12",
                                    "4": "24246"
                                },
                                {
                                    "0": "No Ordinary Time: Franklin and Eleanor Roosevelt: The Home Front in World War II",
                                    "1": "Doris Kearns Goodwin",
                                    "2": "4.2",
                                    "3": "45",
                                    "4": "24246"
                                },
                                {
                                    "0": "Destiny of the Republic: A Tale of Madness, Medicine and the Murder of a President",
                                    "1": "Candice Millard",
                                    "2": "4.19",
                                    "3": "199",
                                    "4": "24246"
                                }
                            ]
                        },
                        "text/html": [
                            "<table>",
                            "<tr><th>title</th><th>authors</th><th>average_rating</th><th>count</th><th>tag_id</th></tr>",
                            "<tr><td>The Path to Power (The Years of Lyndon Johnson, #1)</td><td>Robert A. Caro</td><td>4.42</td><td>92</td><td>24246</td></tr>",
                            "<tr><td>Master of the Senate (The Years of Lyndon Johnson, #3)</td><td>Robert A. Caro</td><td>4.41</td><td>74</td><td>24246</td></tr>",
                            "<tr><td>Team of Rivals: The Political Genius of Abraham Lincoln</td><td>Doris Kearns Goodwin, Suzanne Toren</td><td>4.3</td><td>199</td><td>24246</td></tr>",
                            "<tr><td>Alexander Hamilton</td><td>Ron Chernow</td><td>4.26</td><td>20</td><td>24246</td></tr>",
                            "<tr><td>The Rise of Theodore Roosevelt</td><td>Edmund Morris</td><td>4.25</td><td>156</td><td>24246</td></tr>",
                            "<tr><td>Means of Ascent (The Years of Lyndon Johnson, #2)</td><td>Robert A. Caro</td><td>4.25</td><td>58</td><td>24246</td></tr>",
                            "<tr><td>America's First Daughter</td><td>Stephanie Dray, Laura Kamoie</td><td>4.22</td><td>8</td><td>24246</td></tr>",
                            "<tr><td>A. Lincoln</td><td>Ronald C. White Jr.</td><td>4.22</td><td>12</td><td>24246</td></tr>",
                            "<tr><td>No Ordinary Time: Franklin and Eleanor Roosevelt: The Home Front in World War II</td><td>Doris Kearns Goodwin</td><td>4.2</td><td>45</td><td>24246</td></tr>",
                            "<tr><td>Destiny of the Republic: A Tale of Madness, Medicine and the Murder of a President</td><td>Candice Millard</td><td>4.19</td><td>199</td><td>24246</td></tr>",
                            "</table>"
                        ]
                    }
                }
            ],
            "execution_count": 51
        },
        {
            "cell_type": "code",
            "source": [
                ""
            ],
            "metadata": {
                "azdata_cell_guid": "3aaae3a8-eff7-4b37-8970-2d913a67239b",
                "language": "sql"
            },
            "outputs": [],
            "execution_count": null
        },
        {
            "cell_type": "markdown",
            "source": [
                "### **Summary of event 2:**\n",
                "\n",
                "Books about presidents, top 10 by average rating that are tagged by presidents"
            ],
            "metadata": {
                "azdata_cell_guid": "99d518dc-cd8b-42d6-9a9d-708771c9aa99"
            },
            "attachments": {}
        }
    ]
}